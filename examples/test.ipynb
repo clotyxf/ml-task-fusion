{
 "cells": [
  {
   "cell_type": "code",
   "execution_count": 1,
   "metadata": {},
   "outputs": [],
   "source": [
    "import os\n",
    "from mltaskfusion.task.vllm import VllmData, VllmModel\n",
    "from mltaskfusion.db import queue_client, QueueJobModel\n",
    "\n",
    "os.environ['CONFIG_FILE'] = \"./config.conf\"\n",
    "\n",
    "queue_cli = queue_client(queue_name=VllmModel().queue_name)"
   ]
  },
  {
   "cell_type": "code",
   "execution_count": 6,
   "metadata": {},
   "outputs": [],
   "source": [
    "from mltaskfusion.utils import helper\n",
    "\n",
    "prompt = \"\"\"\n",
    "OCR the text of the image. Extract the text of the following fields and put it in a JSON format: 'why choose us', 'about us', 'company profile'. \n",
    "\n",
    "If the 'why choose us', 'about us', 'company profile' fields do not appear in the image, simply return [].\n",
    "\n",
    "Ignore Other: Ignore all other text information in the picture except for the above fields.\n",
    "\n",
    "IMPORTANT: \n",
    "    1. YOU MUST RESPOND ONLY WITH VALID JSON. DO NOT INCLUDE ANY INTRODUCTION, EXPLANATION, OR EXTRA TEXT. ONLY PROVIDE THE JSON ARRAY.\n",
    "    2. NO ADDITIONAL TEXT.\n",
    "\n",
    "Output format:\n",
    "    [\n",
    "        {\n",
    "            \"field\": \"field name 1\",\n",
    "            \"sections\": [\n",
    "                {\n",
    "                    \"title\": \"\",\n",
    "                    \"content\": \"chunk1 text here\"\n",
    "                },\n",
    "                {\n",
    "                    \"title\": \"\",\n",
    "                    \"content\": \"chunk2 text here\"\n",
    "                }\n",
    "            ]\n",
    "        },\n",
    "        {\n",
    "            \"field\": \"field name 2\",\n",
    "            \"sections\": [\n",
    "                {\n",
    "                    \"title\": \"\",\n",
    "                    \"content\": \"chunk3 text here\"\n",
    "                },\n",
    "                {\n",
    "                    \"title\": \"\",\n",
    "                    \"content\": \"chunk4 text here\"\n",
    "                }\n",
    "            ]\n",
    "        }\n",
    "    ]                    \n",
    "\"\"\"\n",
    "data = VllmData(prompt=prompt, image_urls=['http://img.yfisher.com/d0/1723538497787-e9f3d41f-23da-4f41-83c0-427dfa0719a7.png'], max_tokens=1024, id=helper.unique_id())\n",
    "result = queue_cli.push_and_response(job=QueueJobModel(id=data.id, data=data.model_dump()), seconds=120)"
   ]
  },
  {
   "cell_type": "code",
   "execution_count": 3,
   "metadata": {},
   "outputs": [
    {
     "data": {
      "text/plain": [
       "[{'field': 'why choose us',\n",
       "  'sections': [{'title': 'OEM & ODM',\n",
       "    'content': 'We can customize color ,package,size for the product'},\n",
       "   {'title': 'Rich Variety',\n",
       "    'content': 'We have a wide variety for you to choose from'},\n",
       "   {'title': 'Fast Delivery',\n",
       "    'content': 'We guarantee that the products will be delivered to you quickly and completely'},\n",
       "   {'title': '24h Online',\n",
       "    'content': 'We can online work with you for 24 hours'}]}]"
      ]
     },
     "execution_count": 3,
     "metadata": {},
     "output_type": "execute_result"
    }
   ],
   "source": [
    "import json\n",
    "json.loads(result['content'])"
   ]
  }
 ],
 "metadata": {
  "kernelspec": {
   "display_name": "base",
   "language": "python",
   "name": "python3"
  },
  "language_info": {
   "codemirror_mode": {
    "name": "ipython",
    "version": 3
   },
   "file_extension": ".py",
   "mimetype": "text/x-python",
   "name": "python",
   "nbconvert_exporter": "python",
   "pygments_lexer": "ipython3",
   "version": "3.10.14"
  }
 },
 "nbformat": 4,
 "nbformat_minor": 2
}
